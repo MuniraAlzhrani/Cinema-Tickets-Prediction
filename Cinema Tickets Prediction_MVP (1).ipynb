{
 "cells": [
  {
   "cell_type": "markdown",
   "id": "7d6f0cad",
   "metadata": {},
   "source": [
    "# **Machine Learning (ML) - Regression**\n",
    "## **Project: Cinema Tickects Prediction**"
   ]
  },
  {
   "cell_type": "markdown",
   "id": "7b3403ba",
   "metadata": {},
   "source": [
    "# **Introduction**\n",
    "### Cinema industry is not excluded from getting advantage of predictive modeling. Like other industry e.g., retail, banking, and restaurants, sale forecasts can help cinemas for cost reduction and better ROI. By forecasting sales, screening in different locations could be optimized as well as effective market targeting and pricing.\n",
    "\n",
    "\n",
    "### We will answer some questions, which are:\n",
    "* ### What is the most `tickets_sold`?\n",
    "* ### Is the `total_sales` affects the `day_name`?\n",
    "* ### Which `film_code` has the most `tickets_sold`?\n",
    "* ### What is the correlation between `film_code` and `total_sales` in a day?\n",
    "* ### Does `show_time` affect `tickets_sold`?\n",
    "* ### Which `film_code` has the most popular `show_time`?"
   ]
  },
  {
   "cell_type": "markdown",
   "id": "dafdc9c1",
   "metadata": {},
   "source": [
    "## **Data Features**\n",
    "### **1. film_code**\n",
    "Unique movie ID.\n",
    "\n",
    "### **2. cinema_code**\n",
    "Unique cinema ID.\n",
    "\n",
    "### **3. total_sales**\n",
    "Total sale per screening time\n",
    "\n",
    "### **4. tickets_sold**\n",
    "Number of tickets solds.\n",
    "\n",
    "### **5. tickets_out**\n",
    "Number of tickets cancelled.\n",
    "\n",
    "### **6. show_time**\n",
    "Screening time in each day.\n",
    "\n",
    "### **7. occu_perc**\n",
    "Occupation percent of cinema by means of available capacity.\n",
    "\n",
    "### **8. ticket_price**\n",
    "Price of ticket at show time.\n",
    "\n",
    "### **9. ticket_use**\n",
    "Total number of thicket used.\n",
    "\n",
    "### **10. capacity**\n",
    "Capacity of the cinema.\n",
    "\n",
    "### **11. date**\n",
    "Date of event.\n",
    "\n",
    "### **12. month**\n",
    "Month of event.\n",
    "\n",
    "### **13. quarter**\n",
    "Quarter of event.\n",
    "\n",
    "### **14. day**\n",
    "Day of event."
   ]
  },
  {
   "cell_type": "markdown",
   "id": "0f7ef132",
   "metadata": {},
   "source": [
    "# **Part 1: Exploratory Data Analysis (EDA)**"
   ]
  },
  {
   "cell_type": "markdown",
   "id": "a52e0e90",
   "metadata": {},
   "source": [
    "### Download the dataset"
   ]
  },
  {
   "cell_type": "markdown",
   "id": "aee55d4f",
   "metadata": {},
   "source": [
    "The dataset called \"Cinema Tickets\", which contains 142,524 observations and 14 features. The most important one is `total_sales`, which we will in the machine learning model. \n",
    "\n",
    "you can download the dataset from [here](https://www.kaggle.com/arashnic/cinema-ticket)\n"
   ]
  },
  {
   "cell_type": "markdown",
   "id": "5dcd3cb0",
   "metadata": {},
   "source": [
    "### Import libraries and load the dataset"
   ]
  },
  {
   "cell_type": "code",
   "execution_count": 13,
   "id": "8984082a",
   "metadata": {},
   "outputs": [],
   "source": [
    "import matplotlib.pyplot as plt\n",
    "import pandas as pd\n",
    "import numpy as np\n",
    "import seaborn as sns\n",
    "import datetime\n",
    "from sklearn.model_selection import train_test_split\n",
    "from sklearn.linear_model import LinearRegression, Ridge \n",
    "from sklearn.preprocessing import StandardScaler, PolynomialFeatures\n",
    "from sklearn.metrics import mean_squared_error\n",
    "from math import sqrt\n",
    "from sklearn.metrics import mean_squared_error, r2_score"
   ]
  },
  {
   "cell_type": "code",
   "execution_count": 14,
   "id": "18153124",
   "metadata": {},
   "outputs": [
    {
     "data": {
      "text/html": [
       "<div>\n",
       "<style scoped>\n",
       "    .dataframe tbody tr th:only-of-type {\n",
       "        vertical-align: middle;\n",
       "    }\n",
       "\n",
       "    .dataframe tbody tr th {\n",
       "        vertical-align: top;\n",
       "    }\n",
       "\n",
       "    .dataframe thead th {\n",
       "        text-align: right;\n",
       "    }\n",
       "</style>\n",
       "<table border=\"1\" class=\"dataframe\">\n",
       "  <thead>\n",
       "    <tr style=\"text-align: right;\">\n",
       "      <th></th>\n",
       "      <th>film_code</th>\n",
       "      <th>cinema_code</th>\n",
       "      <th>total_sales</th>\n",
       "      <th>tickets_sold</th>\n",
       "      <th>tickets_out</th>\n",
       "      <th>show_time</th>\n",
       "      <th>occu_perc</th>\n",
       "      <th>ticket_price</th>\n",
       "      <th>ticket_use</th>\n",
       "      <th>capacity</th>\n",
       "      <th>date</th>\n",
       "      <th>month</th>\n",
       "      <th>quarter</th>\n",
       "      <th>day</th>\n",
       "    </tr>\n",
       "  </thead>\n",
       "  <tbody>\n",
       "    <tr>\n",
       "      <th>0</th>\n",
       "      <td>1492</td>\n",
       "      <td>304</td>\n",
       "      <td>3900000</td>\n",
       "      <td>26</td>\n",
       "      <td>0</td>\n",
       "      <td>4</td>\n",
       "      <td>4.26</td>\n",
       "      <td>150000.0</td>\n",
       "      <td>26</td>\n",
       "      <td>610.328638</td>\n",
       "      <td>2018-05-05</td>\n",
       "      <td>5</td>\n",
       "      <td>2</td>\n",
       "      <td>5</td>\n",
       "    </tr>\n",
       "    <tr>\n",
       "      <th>1</th>\n",
       "      <td>1492</td>\n",
       "      <td>352</td>\n",
       "      <td>3360000</td>\n",
       "      <td>42</td>\n",
       "      <td>0</td>\n",
       "      <td>5</td>\n",
       "      <td>8.08</td>\n",
       "      <td>80000.0</td>\n",
       "      <td>42</td>\n",
       "      <td>519.801980</td>\n",
       "      <td>2018-05-05</td>\n",
       "      <td>5</td>\n",
       "      <td>2</td>\n",
       "      <td>5</td>\n",
       "    </tr>\n",
       "    <tr>\n",
       "      <th>2</th>\n",
       "      <td>1492</td>\n",
       "      <td>489</td>\n",
       "      <td>2560000</td>\n",
       "      <td>32</td>\n",
       "      <td>0</td>\n",
       "      <td>4</td>\n",
       "      <td>20.00</td>\n",
       "      <td>80000.0</td>\n",
       "      <td>32</td>\n",
       "      <td>160.000000</td>\n",
       "      <td>2018-05-05</td>\n",
       "      <td>5</td>\n",
       "      <td>2</td>\n",
       "      <td>5</td>\n",
       "    </tr>\n",
       "    <tr>\n",
       "      <th>3</th>\n",
       "      <td>1492</td>\n",
       "      <td>429</td>\n",
       "      <td>1200000</td>\n",
       "      <td>12</td>\n",
       "      <td>0</td>\n",
       "      <td>1</td>\n",
       "      <td>11.01</td>\n",
       "      <td>100000.0</td>\n",
       "      <td>12</td>\n",
       "      <td>108.991826</td>\n",
       "      <td>2018-05-05</td>\n",
       "      <td>5</td>\n",
       "      <td>2</td>\n",
       "      <td>5</td>\n",
       "    </tr>\n",
       "    <tr>\n",
       "      <th>4</th>\n",
       "      <td>1492</td>\n",
       "      <td>524</td>\n",
       "      <td>1200000</td>\n",
       "      <td>15</td>\n",
       "      <td>0</td>\n",
       "      <td>3</td>\n",
       "      <td>16.67</td>\n",
       "      <td>80000.0</td>\n",
       "      <td>15</td>\n",
       "      <td>89.982004</td>\n",
       "      <td>2018-05-05</td>\n",
       "      <td>5</td>\n",
       "      <td>2</td>\n",
       "      <td>5</td>\n",
       "    </tr>\n",
       "  </tbody>\n",
       "</table>\n",
       "</div>"
      ],
      "text/plain": [
       "   film_code  cinema_code  total_sales  tickets_sold  tickets_out  show_time  \\\n",
       "0       1492          304      3900000            26            0          4   \n",
       "1       1492          352      3360000            42            0          5   \n",
       "2       1492          489      2560000            32            0          4   \n",
       "3       1492          429      1200000            12            0          1   \n",
       "4       1492          524      1200000            15            0          3   \n",
       "\n",
       "   occu_perc  ticket_price  ticket_use    capacity        date  month  \\\n",
       "0       4.26      150000.0          26  610.328638  2018-05-05      5   \n",
       "1       8.08       80000.0          42  519.801980  2018-05-05      5   \n",
       "2      20.00       80000.0          32  160.000000  2018-05-05      5   \n",
       "3      11.01      100000.0          12  108.991826  2018-05-05      5   \n",
       "4      16.67       80000.0          15   89.982004  2018-05-05      5   \n",
       "\n",
       "   quarter  day  \n",
       "0        2    5  \n",
       "1        2    5  \n",
       "2        2    5  \n",
       "3        2    5  \n",
       "4        2    5  "
      ]
     },
     "execution_count": 14,
     "metadata": {},
     "output_type": "execute_result"
    }
   ],
   "source": [
    "df = pd.read_csv(r'C:\\Users\\surface laptop\\Desktop\\cinemaTicket_Ref.csv')\n",
    "df.head()"
   ]
  },
  {
   "cell_type": "markdown",
   "id": "69a15edb",
   "metadata": {},
   "source": [
    "### Summary and statistical information on the dataset"
   ]
  },
  {
   "cell_type": "code",
   "execution_count": 15,
   "id": "5ef75ca8",
   "metadata": {},
   "outputs": [
    {
     "name": "stdout",
     "output_type": "stream",
     "text": [
      "<class 'pandas.core.frame.DataFrame'>\n",
      "RangeIndex: 142524 entries, 0 to 142523\n",
      "Data columns (total 14 columns):\n",
      " #   Column        Non-Null Count   Dtype  \n",
      "---  ------        --------------   -----  \n",
      " 0   film_code     142524 non-null  int64  \n",
      " 1   cinema_code   142524 non-null  int64  \n",
      " 2   total_sales   142524 non-null  int64  \n",
      " 3   tickets_sold  142524 non-null  int64  \n",
      " 4   tickets_out   142524 non-null  int64  \n",
      " 5   show_time     142524 non-null  int64  \n",
      " 6   occu_perc     142399 non-null  float64\n",
      " 7   ticket_price  142524 non-null  float64\n",
      " 8   ticket_use    142524 non-null  int64  \n",
      " 9   capacity      142399 non-null  float64\n",
      " 10  date          142524 non-null  object \n",
      " 11  month         142524 non-null  int64  \n",
      " 12  quarter       142524 non-null  int64  \n",
      " 13  day           142524 non-null  int64  \n",
      "dtypes: float64(3), int64(10), object(1)\n",
      "memory usage: 15.2+ MB\n"
     ]
    }
   ],
   "source": [
    "df.info()"
   ]
  },
  {
   "cell_type": "code",
   "execution_count": 16,
   "id": "44afa17e",
   "metadata": {},
   "outputs": [
    {
     "data": {
      "text/html": [
       "<div>\n",
       "<style scoped>\n",
       "    .dataframe tbody tr th:only-of-type {\n",
       "        vertical-align: middle;\n",
       "    }\n",
       "\n",
       "    .dataframe tbody tr th {\n",
       "        vertical-align: top;\n",
       "    }\n",
       "\n",
       "    .dataframe thead th {\n",
       "        text-align: right;\n",
       "    }\n",
       "</style>\n",
       "<table border=\"1\" class=\"dataframe\">\n",
       "  <thead>\n",
       "    <tr style=\"text-align: right;\">\n",
       "      <th></th>\n",
       "      <th>film_code</th>\n",
       "      <th>cinema_code</th>\n",
       "      <th>total_sales</th>\n",
       "      <th>tickets_sold</th>\n",
       "      <th>tickets_out</th>\n",
       "      <th>show_time</th>\n",
       "      <th>occu_perc</th>\n",
       "      <th>ticket_price</th>\n",
       "      <th>ticket_use</th>\n",
       "      <th>capacity</th>\n",
       "      <th>month</th>\n",
       "      <th>quarter</th>\n",
       "      <th>day</th>\n",
       "    </tr>\n",
       "  </thead>\n",
       "  <tbody>\n",
       "    <tr>\n",
       "      <th>count</th>\n",
       "      <td>142524.000000</td>\n",
       "      <td>142524.000000</td>\n",
       "      <td>1.425240e+05</td>\n",
       "      <td>142524.000000</td>\n",
       "      <td>142524.000000</td>\n",
       "      <td>142524.000000</td>\n",
       "      <td>142399.000000</td>\n",
       "      <td>142524.000000</td>\n",
       "      <td>142524.000000</td>\n",
       "      <td>142399.000000</td>\n",
       "      <td>142524.000000</td>\n",
       "      <td>142524.000000</td>\n",
       "      <td>142524.000000</td>\n",
       "    </tr>\n",
       "    <tr>\n",
       "      <th>mean</th>\n",
       "      <td>1518.985111</td>\n",
       "      <td>320.378427</td>\n",
       "      <td>1.234728e+07</td>\n",
       "      <td>140.137570</td>\n",
       "      <td>0.237413</td>\n",
       "      <td>3.932103</td>\n",
       "      <td>19.965986</td>\n",
       "      <td>81234.599886</td>\n",
       "      <td>139.900157</td>\n",
       "      <td>854.723605</td>\n",
       "      <td>6.776852</td>\n",
       "      <td>2.634721</td>\n",
       "      <td>16.112585</td>\n",
       "    </tr>\n",
       "    <tr>\n",
       "      <th>std</th>\n",
       "      <td>36.184450</td>\n",
       "      <td>159.701229</td>\n",
       "      <td>3.065486e+07</td>\n",
       "      <td>279.758733</td>\n",
       "      <td>2.923206</td>\n",
       "      <td>3.056276</td>\n",
       "      <td>22.653445</td>\n",
       "      <td>33236.599278</td>\n",
       "      <td>279.564935</td>\n",
       "      <td>953.118103</td>\n",
       "      <td>2.195843</td>\n",
       "      <td>0.809692</td>\n",
       "      <td>8.949471</td>\n",
       "    </tr>\n",
       "    <tr>\n",
       "      <th>min</th>\n",
       "      <td>1471.000000</td>\n",
       "      <td>32.000000</td>\n",
       "      <td>2.000000e+04</td>\n",
       "      <td>1.000000</td>\n",
       "      <td>0.000000</td>\n",
       "      <td>1.000000</td>\n",
       "      <td>0.000000</td>\n",
       "      <td>483.870968</td>\n",
       "      <td>-219.000000</td>\n",
       "      <td>-2.000000</td>\n",
       "      <td>2.000000</td>\n",
       "      <td>1.000000</td>\n",
       "      <td>1.000000</td>\n",
       "    </tr>\n",
       "    <tr>\n",
       "      <th>25%</th>\n",
       "      <td>1485.000000</td>\n",
       "      <td>181.000000</td>\n",
       "      <td>1.260000e+06</td>\n",
       "      <td>18.000000</td>\n",
       "      <td>0.000000</td>\n",
       "      <td>2.000000</td>\n",
       "      <td>3.750000</td>\n",
       "      <td>60000.000000</td>\n",
       "      <td>18.000000</td>\n",
       "      <td>276.994486</td>\n",
       "      <td>5.000000</td>\n",
       "      <td>2.000000</td>\n",
       "      <td>8.000000</td>\n",
       "    </tr>\n",
       "    <tr>\n",
       "      <th>50%</th>\n",
       "      <td>1498.000000</td>\n",
       "      <td>324.000000</td>\n",
       "      <td>3.720000e+06</td>\n",
       "      <td>50.000000</td>\n",
       "      <td>0.000000</td>\n",
       "      <td>3.000000</td>\n",
       "      <td>10.350000</td>\n",
       "      <td>79454.235185</td>\n",
       "      <td>50.000000</td>\n",
       "      <td>525.714286</td>\n",
       "      <td>7.000000</td>\n",
       "      <td>3.000000</td>\n",
       "      <td>16.000000</td>\n",
       "    </tr>\n",
       "    <tr>\n",
       "      <th>75%</th>\n",
       "      <td>1556.000000</td>\n",
       "      <td>474.000000</td>\n",
       "      <td>1.110000e+07</td>\n",
       "      <td>143.000000</td>\n",
       "      <td>0.000000</td>\n",
       "      <td>5.000000</td>\n",
       "      <td>28.210000</td>\n",
       "      <td>100000.000000</td>\n",
       "      <td>143.000000</td>\n",
       "      <td>1038.961039</td>\n",
       "      <td>9.000000</td>\n",
       "      <td>3.000000</td>\n",
       "      <td>24.000000</td>\n",
       "    </tr>\n",
       "    <tr>\n",
       "      <th>max</th>\n",
       "      <td>1589.000000</td>\n",
       "      <td>637.000000</td>\n",
       "      <td>1.262820e+09</td>\n",
       "      <td>8499.000000</td>\n",
       "      <td>311.000000</td>\n",
       "      <td>60.000000</td>\n",
       "      <td>147.500000</td>\n",
       "      <td>700000.000000</td>\n",
       "      <td>8499.000000</td>\n",
       "      <td>9692.097160</td>\n",
       "      <td>11.000000</td>\n",
       "      <td>4.000000</td>\n",
       "      <td>31.000000</td>\n",
       "    </tr>\n",
       "  </tbody>\n",
       "</table>\n",
       "</div>"
      ],
      "text/plain": [
       "           film_code    cinema_code   total_sales   tickets_sold  \\\n",
       "count  142524.000000  142524.000000  1.425240e+05  142524.000000   \n",
       "mean     1518.985111     320.378427  1.234728e+07     140.137570   \n",
       "std        36.184450     159.701229  3.065486e+07     279.758733   \n",
       "min      1471.000000      32.000000  2.000000e+04       1.000000   \n",
       "25%      1485.000000     181.000000  1.260000e+06      18.000000   \n",
       "50%      1498.000000     324.000000  3.720000e+06      50.000000   \n",
       "75%      1556.000000     474.000000  1.110000e+07     143.000000   \n",
       "max      1589.000000     637.000000  1.262820e+09    8499.000000   \n",
       "\n",
       "         tickets_out      show_time      occu_perc   ticket_price  \\\n",
       "count  142524.000000  142524.000000  142399.000000  142524.000000   \n",
       "mean        0.237413       3.932103      19.965986   81234.599886   \n",
       "std         2.923206       3.056276      22.653445   33236.599278   \n",
       "min         0.000000       1.000000       0.000000     483.870968   \n",
       "25%         0.000000       2.000000       3.750000   60000.000000   \n",
       "50%         0.000000       3.000000      10.350000   79454.235185   \n",
       "75%         0.000000       5.000000      28.210000  100000.000000   \n",
       "max       311.000000      60.000000     147.500000  700000.000000   \n",
       "\n",
       "          ticket_use       capacity          month        quarter  \\\n",
       "count  142524.000000  142399.000000  142524.000000  142524.000000   \n",
       "mean      139.900157     854.723605       6.776852       2.634721   \n",
       "std       279.564935     953.118103       2.195843       0.809692   \n",
       "min      -219.000000      -2.000000       2.000000       1.000000   \n",
       "25%        18.000000     276.994486       5.000000       2.000000   \n",
       "50%        50.000000     525.714286       7.000000       3.000000   \n",
       "75%       143.000000    1038.961039       9.000000       3.000000   \n",
       "max      8499.000000    9692.097160      11.000000       4.000000   \n",
       "\n",
       "                 day  \n",
       "count  142524.000000  \n",
       "mean       16.112585  \n",
       "std         8.949471  \n",
       "min         1.000000  \n",
       "25%         8.000000  \n",
       "50%        16.000000  \n",
       "75%        24.000000  \n",
       "max        31.000000  "
      ]
     },
     "execution_count": 16,
     "metadata": {},
     "output_type": "execute_result"
    }
   ],
   "source": [
    "df.describe()"
   ]
  },
  {
   "cell_type": "code",
   "execution_count": 17,
   "id": "bec5d549",
   "metadata": {},
   "outputs": [
    {
     "data": {
      "text/plain": [
       "(142524, 14)"
      ]
     },
     "execution_count": 17,
     "metadata": {},
     "output_type": "execute_result"
    }
   ],
   "source": [
    "df.shape"
   ]
  },
  {
   "cell_type": "code",
   "execution_count": 18,
   "id": "5a44f820",
   "metadata": {},
   "outputs": [
    {
     "data": {
      "text/plain": [
       "film_code         0\n",
       "cinema_code       0\n",
       "total_sales       0\n",
       "tickets_sold      0\n",
       "tickets_out       0\n",
       "show_time         0\n",
       "occu_perc       125\n",
       "ticket_price      0\n",
       "ticket_use        0\n",
       "capacity        125\n",
       "date              0\n",
       "month             0\n",
       "quarter           0\n",
       "day               0\n",
       "dtype: int64"
      ]
     },
     "execution_count": 18,
     "metadata": {},
     "output_type": "execute_result"
    }
   ],
   "source": [
    "df.isna().sum()"
   ]
  },
  {
   "cell_type": "markdown",
   "id": "03f35909",
   "metadata": {},
   "source": [
    "### Drop rows that contain NaN values"
   ]
  },
  {
   "cell_type": "code",
   "execution_count": 19,
   "id": "593f5d3d",
   "metadata": {},
   "outputs": [],
   "source": [
    "# These features will not be used in this project because they will not add anything or have too many values, and may cause confusion and problems in the analysis\n",
    "df.dropna(subset=['capacity'],inplace=True)\n",
    "df.dropna(subset=['occu_perc'],inplace=True)"
   ]
  },
  {
   "cell_type": "code",
   "execution_count": 20,
   "id": "19c49028",
   "metadata": {},
   "outputs": [
    {
     "data": {
      "text/plain": [
       "film_code       0\n",
       "cinema_code     0\n",
       "total_sales     0\n",
       "tickets_sold    0\n",
       "tickets_out     0\n",
       "show_time       0\n",
       "occu_perc       0\n",
       "ticket_price    0\n",
       "ticket_use      0\n",
       "capacity        0\n",
       "date            0\n",
       "month           0\n",
       "quarter         0\n",
       "day             0\n",
       "dtype: int64"
      ]
     },
     "execution_count": 20,
     "metadata": {},
     "output_type": "execute_result"
    }
   ],
   "source": [
    "df.isna().sum()"
   ]
  },
  {
   "cell_type": "markdown",
   "id": "686b8bc2",
   "metadata": {},
   "source": [
    "### Drop rows that contain irrational values in columns `ticket_use`, `capacity` and `occu_perc`"
   ]
  },
  {
   "cell_type": "code",
   "execution_count": 21,
   "id": "87dec4b3",
   "metadata": {},
   "outputs": [],
   "source": [
    "df = df[df['ticket_use'] >= 0]"
   ]
  },
  {
   "cell_type": "code",
   "execution_count": 22,
   "id": "a750be9c",
   "metadata": {},
   "outputs": [],
   "source": [
    "df = df[df['capacity'] >= 0]"
   ]
  },
  {
   "cell_type": "code",
   "execution_count": 23,
   "id": "032dc642",
   "metadata": {},
   "outputs": [],
   "source": [
    "df = df[df['occu_perc'] <= 100]"
   ]
  },
  {
   "cell_type": "code",
   "execution_count": 24,
   "id": "062b775f",
   "metadata": {},
   "outputs": [
    {
     "data": {
      "text/html": [
       "<div>\n",
       "<style scoped>\n",
       "    .dataframe tbody tr th:only-of-type {\n",
       "        vertical-align: middle;\n",
       "    }\n",
       "\n",
       "    .dataframe tbody tr th {\n",
       "        vertical-align: top;\n",
       "    }\n",
       "\n",
       "    .dataframe thead th {\n",
       "        text-align: right;\n",
       "    }\n",
       "</style>\n",
       "<table border=\"1\" class=\"dataframe\">\n",
       "  <thead>\n",
       "    <tr style=\"text-align: right;\">\n",
       "      <th></th>\n",
       "      <th>film_code</th>\n",
       "      <th>cinema_code</th>\n",
       "      <th>total_sales</th>\n",
       "      <th>tickets_sold</th>\n",
       "      <th>tickets_out</th>\n",
       "      <th>show_time</th>\n",
       "      <th>occu_perc</th>\n",
       "      <th>ticket_price</th>\n",
       "      <th>ticket_use</th>\n",
       "      <th>capacity</th>\n",
       "      <th>month</th>\n",
       "      <th>quarter</th>\n",
       "      <th>day</th>\n",
       "    </tr>\n",
       "  </thead>\n",
       "  <tbody>\n",
       "    <tr>\n",
       "      <th>count</th>\n",
       "      <td>142120.000000</td>\n",
       "      <td>142120.000000</td>\n",
       "      <td>1.421200e+05</td>\n",
       "      <td>142120.000000</td>\n",
       "      <td>142120.000000</td>\n",
       "      <td>142120.000000</td>\n",
       "      <td>142120.000000</td>\n",
       "      <td>142120.000000</td>\n",
       "      <td>142120.000000</td>\n",
       "      <td>142120.000000</td>\n",
       "      <td>142120.000000</td>\n",
       "      <td>142120.000000</td>\n",
       "      <td>142120.00000</td>\n",
       "    </tr>\n",
       "    <tr>\n",
       "      <th>mean</th>\n",
       "      <td>1518.980988</td>\n",
       "      <td>320.265339</td>\n",
       "      <td>1.234894e+07</td>\n",
       "      <td>140.036631</td>\n",
       "      <td>0.212848</td>\n",
       "      <td>3.936223</td>\n",
       "      <td>19.881310</td>\n",
       "      <td>81276.054801</td>\n",
       "      <td>139.823783</td>\n",
       "      <td>855.751487</td>\n",
       "      <td>6.776513</td>\n",
       "      <td>2.634471</td>\n",
       "      <td>16.11370</td>\n",
       "    </tr>\n",
       "    <tr>\n",
       "      <th>std</th>\n",
       "      <td>36.180077</td>\n",
       "      <td>159.636011</td>\n",
       "      <td>3.065892e+07</td>\n",
       "      <td>279.771202</td>\n",
       "      <td>2.414932</td>\n",
       "      <td>3.058151</td>\n",
       "      <td>22.481873</td>\n",
       "      <td>33235.362939</td>\n",
       "      <td>279.562401</td>\n",
       "      <td>953.618471</td>\n",
       "      <td>2.194446</td>\n",
       "      <td>0.809148</td>\n",
       "      <td>8.94958</td>\n",
       "    </tr>\n",
       "    <tr>\n",
       "      <th>min</th>\n",
       "      <td>1471.000000</td>\n",
       "      <td>32.000000</td>\n",
       "      <td>2.000000e+04</td>\n",
       "      <td>1.000000</td>\n",
       "      <td>0.000000</td>\n",
       "      <td>1.000000</td>\n",
       "      <td>0.030000</td>\n",
       "      <td>483.870968</td>\n",
       "      <td>0.000000</td>\n",
       "      <td>10.000000</td>\n",
       "      <td>2.000000</td>\n",
       "      <td>1.000000</td>\n",
       "      <td>1.00000</td>\n",
       "    </tr>\n",
       "    <tr>\n",
       "      <th>25%</th>\n",
       "      <td>1485.000000</td>\n",
       "      <td>181.000000</td>\n",
       "      <td>1.275000e+06</td>\n",
       "      <td>18.000000</td>\n",
       "      <td>0.000000</td>\n",
       "      <td>2.000000</td>\n",
       "      <td>3.760000</td>\n",
       "      <td>60000.000000</td>\n",
       "      <td>18.000000</td>\n",
       "      <td>279.720280</td>\n",
       "      <td>5.000000</td>\n",
       "      <td>2.000000</td>\n",
       "      <td>8.00000</td>\n",
       "    </tr>\n",
       "    <tr>\n",
       "      <th>50%</th>\n",
       "      <td>1498.000000</td>\n",
       "      <td>324.000000</td>\n",
       "      <td>3.720000e+06</td>\n",
       "      <td>50.000000</td>\n",
       "      <td>0.000000</td>\n",
       "      <td>3.000000</td>\n",
       "      <td>10.340000</td>\n",
       "      <td>79513.677312</td>\n",
       "      <td>50.000000</td>\n",
       "      <td>526.315789</td>\n",
       "      <td>7.000000</td>\n",
       "      <td>3.000000</td>\n",
       "      <td>16.00000</td>\n",
       "    </tr>\n",
       "    <tr>\n",
       "      <th>75%</th>\n",
       "      <td>1556.000000</td>\n",
       "      <td>474.000000</td>\n",
       "      <td>1.110000e+07</td>\n",
       "      <td>143.000000</td>\n",
       "      <td>0.000000</td>\n",
       "      <td>5.000000</td>\n",
       "      <td>28.130000</td>\n",
       "      <td>100000.000000</td>\n",
       "      <td>143.000000</td>\n",
       "      <td>1039.826743</td>\n",
       "      <td>9.000000</td>\n",
       "      <td>3.000000</td>\n",
       "      <td>24.00000</td>\n",
       "    </tr>\n",
       "    <tr>\n",
       "      <th>max</th>\n",
       "      <td>1589.000000</td>\n",
       "      <td>566.000000</td>\n",
       "      <td>1.262820e+09</td>\n",
       "      <td>8499.000000</td>\n",
       "      <td>311.000000</td>\n",
       "      <td>60.000000</td>\n",
       "      <td>100.000000</td>\n",
       "      <td>700000.000000</td>\n",
       "      <td>8499.000000</td>\n",
       "      <td>9692.097160</td>\n",
       "      <td>11.000000</td>\n",
       "      <td>4.000000</td>\n",
       "      <td>31.00000</td>\n",
       "    </tr>\n",
       "  </tbody>\n",
       "</table>\n",
       "</div>"
      ],
      "text/plain": [
       "           film_code    cinema_code   total_sales   tickets_sold  \\\n",
       "count  142120.000000  142120.000000  1.421200e+05  142120.000000   \n",
       "mean     1518.980988     320.265339  1.234894e+07     140.036631   \n",
       "std        36.180077     159.636011  3.065892e+07     279.771202   \n",
       "min      1471.000000      32.000000  2.000000e+04       1.000000   \n",
       "25%      1485.000000     181.000000  1.275000e+06      18.000000   \n",
       "50%      1498.000000     324.000000  3.720000e+06      50.000000   \n",
       "75%      1556.000000     474.000000  1.110000e+07     143.000000   \n",
       "max      1589.000000     566.000000  1.262820e+09    8499.000000   \n",
       "\n",
       "         tickets_out      show_time      occu_perc   ticket_price  \\\n",
       "count  142120.000000  142120.000000  142120.000000  142120.000000   \n",
       "mean        0.212848       3.936223      19.881310   81276.054801   \n",
       "std         2.414932       3.058151      22.481873   33235.362939   \n",
       "min         0.000000       1.000000       0.030000     483.870968   \n",
       "25%         0.000000       2.000000       3.760000   60000.000000   \n",
       "50%         0.000000       3.000000      10.340000   79513.677312   \n",
       "75%         0.000000       5.000000      28.130000  100000.000000   \n",
       "max       311.000000      60.000000     100.000000  700000.000000   \n",
       "\n",
       "          ticket_use       capacity          month        quarter  \\\n",
       "count  142120.000000  142120.000000  142120.000000  142120.000000   \n",
       "mean      139.823783     855.751487       6.776513       2.634471   \n",
       "std       279.562401     953.618471       2.194446       0.809148   \n",
       "min         0.000000      10.000000       2.000000       1.000000   \n",
       "25%        18.000000     279.720280       5.000000       2.000000   \n",
       "50%        50.000000     526.315789       7.000000       3.000000   \n",
       "75%       143.000000    1039.826743       9.000000       3.000000   \n",
       "max      8499.000000    9692.097160      11.000000       4.000000   \n",
       "\n",
       "                day  \n",
       "count  142120.00000  \n",
       "mean       16.11370  \n",
       "std         8.94958  \n",
       "min         1.00000  \n",
       "25%         8.00000  \n",
       "50%        16.00000  \n",
       "75%        24.00000  \n",
       "max        31.00000  "
      ]
     },
     "execution_count": 24,
     "metadata": {},
     "output_type": "execute_result"
    }
   ],
   "source": [
    "df.describe()"
   ]
  },
  {
   "cell_type": "markdown",
   "id": "caae29a0",
   "metadata": {},
   "source": [
    "### Insert a column called `date`"
   ]
  },
  {
   "cell_type": "code",
   "execution_count": 25,
   "id": "43730b76",
   "metadata": {},
   "outputs": [],
   "source": [
    "df['date'] = pd.to_datetime(df['date'])"
   ]
  },
  {
   "cell_type": "code",
   "execution_count": 26,
   "id": "73b721ae",
   "metadata": {},
   "outputs": [],
   "source": [
    "df['day_name'] = df['date'].dt.day_name()"
   ]
  },
  {
   "cell_type": "code",
   "execution_count": 27,
   "id": "c6b0a5e7",
   "metadata": {},
   "outputs": [
    {
     "data": {
      "text/html": [
       "<div>\n",
       "<style scoped>\n",
       "    .dataframe tbody tr th:only-of-type {\n",
       "        vertical-align: middle;\n",
       "    }\n",
       "\n",
       "    .dataframe tbody tr th {\n",
       "        vertical-align: top;\n",
       "    }\n",
       "\n",
       "    .dataframe thead th {\n",
       "        text-align: right;\n",
       "    }\n",
       "</style>\n",
       "<table border=\"1\" class=\"dataframe\">\n",
       "  <thead>\n",
       "    <tr style=\"text-align: right;\">\n",
       "      <th></th>\n",
       "      <th>film_code</th>\n",
       "      <th>cinema_code</th>\n",
       "      <th>total_sales</th>\n",
       "      <th>tickets_sold</th>\n",
       "      <th>tickets_out</th>\n",
       "      <th>show_time</th>\n",
       "      <th>occu_perc</th>\n",
       "      <th>ticket_price</th>\n",
       "      <th>ticket_use</th>\n",
       "      <th>capacity</th>\n",
       "      <th>date</th>\n",
       "      <th>month</th>\n",
       "      <th>quarter</th>\n",
       "      <th>day</th>\n",
       "      <th>day_name</th>\n",
       "    </tr>\n",
       "  </thead>\n",
       "  <tbody>\n",
       "    <tr>\n",
       "      <th>0</th>\n",
       "      <td>1492</td>\n",
       "      <td>304</td>\n",
       "      <td>3900000</td>\n",
       "      <td>26</td>\n",
       "      <td>0</td>\n",
       "      <td>4</td>\n",
       "      <td>4.26</td>\n",
       "      <td>150000.0</td>\n",
       "      <td>26</td>\n",
       "      <td>610.328638</td>\n",
       "      <td>2018-05-05</td>\n",
       "      <td>5</td>\n",
       "      <td>2</td>\n",
       "      <td>5</td>\n",
       "      <td>Saturday</td>\n",
       "    </tr>\n",
       "    <tr>\n",
       "      <th>1</th>\n",
       "      <td>1492</td>\n",
       "      <td>352</td>\n",
       "      <td>3360000</td>\n",
       "      <td>42</td>\n",
       "      <td>0</td>\n",
       "      <td>5</td>\n",
       "      <td>8.08</td>\n",
       "      <td>80000.0</td>\n",
       "      <td>42</td>\n",
       "      <td>519.801980</td>\n",
       "      <td>2018-05-05</td>\n",
       "      <td>5</td>\n",
       "      <td>2</td>\n",
       "      <td>5</td>\n",
       "      <td>Saturday</td>\n",
       "    </tr>\n",
       "    <tr>\n",
       "      <th>2</th>\n",
       "      <td>1492</td>\n",
       "      <td>489</td>\n",
       "      <td>2560000</td>\n",
       "      <td>32</td>\n",
       "      <td>0</td>\n",
       "      <td>4</td>\n",
       "      <td>20.00</td>\n",
       "      <td>80000.0</td>\n",
       "      <td>32</td>\n",
       "      <td>160.000000</td>\n",
       "      <td>2018-05-05</td>\n",
       "      <td>5</td>\n",
       "      <td>2</td>\n",
       "      <td>5</td>\n",
       "      <td>Saturday</td>\n",
       "    </tr>\n",
       "    <tr>\n",
       "      <th>3</th>\n",
       "      <td>1492</td>\n",
       "      <td>429</td>\n",
       "      <td>1200000</td>\n",
       "      <td>12</td>\n",
       "      <td>0</td>\n",
       "      <td>1</td>\n",
       "      <td>11.01</td>\n",
       "      <td>100000.0</td>\n",
       "      <td>12</td>\n",
       "      <td>108.991826</td>\n",
       "      <td>2018-05-05</td>\n",
       "      <td>5</td>\n",
       "      <td>2</td>\n",
       "      <td>5</td>\n",
       "      <td>Saturday</td>\n",
       "    </tr>\n",
       "    <tr>\n",
       "      <th>4</th>\n",
       "      <td>1492</td>\n",
       "      <td>524</td>\n",
       "      <td>1200000</td>\n",
       "      <td>15</td>\n",
       "      <td>0</td>\n",
       "      <td>3</td>\n",
       "      <td>16.67</td>\n",
       "      <td>80000.0</td>\n",
       "      <td>15</td>\n",
       "      <td>89.982004</td>\n",
       "      <td>2018-05-05</td>\n",
       "      <td>5</td>\n",
       "      <td>2</td>\n",
       "      <td>5</td>\n",
       "      <td>Saturday</td>\n",
       "    </tr>\n",
       "  </tbody>\n",
       "</table>\n",
       "</div>"
      ],
      "text/plain": [
       "   film_code  cinema_code  total_sales  tickets_sold  tickets_out  show_time  \\\n",
       "0       1492          304      3900000            26            0          4   \n",
       "1       1492          352      3360000            42            0          5   \n",
       "2       1492          489      2560000            32            0          4   \n",
       "3       1492          429      1200000            12            0          1   \n",
       "4       1492          524      1200000            15            0          3   \n",
       "\n",
       "   occu_perc  ticket_price  ticket_use    capacity       date  month  quarter  \\\n",
       "0       4.26      150000.0          26  610.328638 2018-05-05      5        2   \n",
       "1       8.08       80000.0          42  519.801980 2018-05-05      5        2   \n",
       "2      20.00       80000.0          32  160.000000 2018-05-05      5        2   \n",
       "3      11.01      100000.0          12  108.991826 2018-05-05      5        2   \n",
       "4      16.67       80000.0          15   89.982004 2018-05-05      5        2   \n",
       "\n",
       "   day  day_name  \n",
       "0    5  Saturday  \n",
       "1    5  Saturday  \n",
       "2    5  Saturday  \n",
       "3    5  Saturday  \n",
       "4    5  Saturday  "
      ]
     },
     "execution_count": 27,
     "metadata": {},
     "output_type": "execute_result"
    }
   ],
   "source": [
    "df.head()"
   ]
  },
  {
   "cell_type": "markdown",
   "id": "27617219",
   "metadata": {},
   "source": [
    "### Drop useless columns"
   ]
  },
  {
   "cell_type": "code",
   "execution_count": 28,
   "id": "17b9ea24",
   "metadata": {},
   "outputs": [],
   "source": [
    "df.drop(['month', 'quarter', 'day', 'tickets_out'], axis=1, inplace=True)"
   ]
  },
  {
   "cell_type": "code",
   "execution_count": 29,
   "id": "898f816f",
   "metadata": {},
   "outputs": [
    {
     "data": {
      "text/html": [
       "<div>\n",
       "<style scoped>\n",
       "    .dataframe tbody tr th:only-of-type {\n",
       "        vertical-align: middle;\n",
       "    }\n",
       "\n",
       "    .dataframe tbody tr th {\n",
       "        vertical-align: top;\n",
       "    }\n",
       "\n",
       "    .dataframe thead th {\n",
       "        text-align: right;\n",
       "    }\n",
       "</style>\n",
       "<table border=\"1\" class=\"dataframe\">\n",
       "  <thead>\n",
       "    <tr style=\"text-align: right;\">\n",
       "      <th></th>\n",
       "      <th>film_code</th>\n",
       "      <th>cinema_code</th>\n",
       "      <th>total_sales</th>\n",
       "      <th>tickets_sold</th>\n",
       "      <th>show_time</th>\n",
       "      <th>occu_perc</th>\n",
       "      <th>ticket_price</th>\n",
       "      <th>ticket_use</th>\n",
       "      <th>capacity</th>\n",
       "      <th>date</th>\n",
       "      <th>day_name</th>\n",
       "    </tr>\n",
       "  </thead>\n",
       "  <tbody>\n",
       "    <tr>\n",
       "      <th>0</th>\n",
       "      <td>1492</td>\n",
       "      <td>304</td>\n",
       "      <td>3900000</td>\n",
       "      <td>26</td>\n",
       "      <td>4</td>\n",
       "      <td>4.26</td>\n",
       "      <td>150000.0</td>\n",
       "      <td>26</td>\n",
       "      <td>610.328638</td>\n",
       "      <td>2018-05-05</td>\n",
       "      <td>Saturday</td>\n",
       "    </tr>\n",
       "    <tr>\n",
       "      <th>1</th>\n",
       "      <td>1492</td>\n",
       "      <td>352</td>\n",
       "      <td>3360000</td>\n",
       "      <td>42</td>\n",
       "      <td>5</td>\n",
       "      <td>8.08</td>\n",
       "      <td>80000.0</td>\n",
       "      <td>42</td>\n",
       "      <td>519.801980</td>\n",
       "      <td>2018-05-05</td>\n",
       "      <td>Saturday</td>\n",
       "    </tr>\n",
       "    <tr>\n",
       "      <th>2</th>\n",
       "      <td>1492</td>\n",
       "      <td>489</td>\n",
       "      <td>2560000</td>\n",
       "      <td>32</td>\n",
       "      <td>4</td>\n",
       "      <td>20.00</td>\n",
       "      <td>80000.0</td>\n",
       "      <td>32</td>\n",
       "      <td>160.000000</td>\n",
       "      <td>2018-05-05</td>\n",
       "      <td>Saturday</td>\n",
       "    </tr>\n",
       "    <tr>\n",
       "      <th>3</th>\n",
       "      <td>1492</td>\n",
       "      <td>429</td>\n",
       "      <td>1200000</td>\n",
       "      <td>12</td>\n",
       "      <td>1</td>\n",
       "      <td>11.01</td>\n",
       "      <td>100000.0</td>\n",
       "      <td>12</td>\n",
       "      <td>108.991826</td>\n",
       "      <td>2018-05-05</td>\n",
       "      <td>Saturday</td>\n",
       "    </tr>\n",
       "    <tr>\n",
       "      <th>4</th>\n",
       "      <td>1492</td>\n",
       "      <td>524</td>\n",
       "      <td>1200000</td>\n",
       "      <td>15</td>\n",
       "      <td>3</td>\n",
       "      <td>16.67</td>\n",
       "      <td>80000.0</td>\n",
       "      <td>15</td>\n",
       "      <td>89.982004</td>\n",
       "      <td>2018-05-05</td>\n",
       "      <td>Saturday</td>\n",
       "    </tr>\n",
       "  </tbody>\n",
       "</table>\n",
       "</div>"
      ],
      "text/plain": [
       "   film_code  cinema_code  total_sales  tickets_sold  show_time  occu_perc  \\\n",
       "0       1492          304      3900000            26          4       4.26   \n",
       "1       1492          352      3360000            42          5       8.08   \n",
       "2       1492          489      2560000            32          4      20.00   \n",
       "3       1492          429      1200000            12          1      11.01   \n",
       "4       1492          524      1200000            15          3      16.67   \n",
       "\n",
       "   ticket_price  ticket_use    capacity       date  day_name  \n",
       "0      150000.0          26  610.328638 2018-05-05  Saturday  \n",
       "1       80000.0          42  519.801980 2018-05-05  Saturday  \n",
       "2       80000.0          32  160.000000 2018-05-05  Saturday  \n",
       "3      100000.0          12  108.991826 2018-05-05  Saturday  \n",
       "4       80000.0          15   89.982004 2018-05-05  Saturday  "
      ]
     },
     "execution_count": 29,
     "metadata": {},
     "output_type": "execute_result"
    }
   ],
   "source": [
    "df.head()"
   ]
  },
  {
   "cell_type": "markdown",
   "id": "b3d85e7f",
   "metadata": {},
   "source": [
    "### Change the column names to clearer names"
   ]
  },
  {
   "cell_type": "code",
   "execution_count": 30,
   "id": "5399d9dd",
   "metadata": {},
   "outputs": [],
   "source": [
    "df.rename(columns = {'occu_perc':'occupation'}, inplace=True)"
   ]
  },
  {
   "cell_type": "code",
   "execution_count": 31,
   "id": "a75eff78",
   "metadata": {},
   "outputs": [
    {
     "data": {
      "text/html": [
       "<div>\n",
       "<style scoped>\n",
       "    .dataframe tbody tr th:only-of-type {\n",
       "        vertical-align: middle;\n",
       "    }\n",
       "\n",
       "    .dataframe tbody tr th {\n",
       "        vertical-align: top;\n",
       "    }\n",
       "\n",
       "    .dataframe thead th {\n",
       "        text-align: right;\n",
       "    }\n",
       "</style>\n",
       "<table border=\"1\" class=\"dataframe\">\n",
       "  <thead>\n",
       "    <tr style=\"text-align: right;\">\n",
       "      <th></th>\n",
       "      <th>film_code</th>\n",
       "      <th>cinema_code</th>\n",
       "      <th>total_sales</th>\n",
       "      <th>tickets_sold</th>\n",
       "      <th>show_time</th>\n",
       "      <th>occupation</th>\n",
       "      <th>ticket_price</th>\n",
       "      <th>ticket_use</th>\n",
       "      <th>capacity</th>\n",
       "      <th>date</th>\n",
       "      <th>day_name</th>\n",
       "    </tr>\n",
       "  </thead>\n",
       "  <tbody>\n",
       "    <tr>\n",
       "      <th>0</th>\n",
       "      <td>1492</td>\n",
       "      <td>304</td>\n",
       "      <td>3900000</td>\n",
       "      <td>26</td>\n",
       "      <td>4</td>\n",
       "      <td>4.26</td>\n",
       "      <td>150000.0</td>\n",
       "      <td>26</td>\n",
       "      <td>610.328638</td>\n",
       "      <td>2018-05-05</td>\n",
       "      <td>Saturday</td>\n",
       "    </tr>\n",
       "    <tr>\n",
       "      <th>1</th>\n",
       "      <td>1492</td>\n",
       "      <td>352</td>\n",
       "      <td>3360000</td>\n",
       "      <td>42</td>\n",
       "      <td>5</td>\n",
       "      <td>8.08</td>\n",
       "      <td>80000.0</td>\n",
       "      <td>42</td>\n",
       "      <td>519.801980</td>\n",
       "      <td>2018-05-05</td>\n",
       "      <td>Saturday</td>\n",
       "    </tr>\n",
       "    <tr>\n",
       "      <th>2</th>\n",
       "      <td>1492</td>\n",
       "      <td>489</td>\n",
       "      <td>2560000</td>\n",
       "      <td>32</td>\n",
       "      <td>4</td>\n",
       "      <td>20.00</td>\n",
       "      <td>80000.0</td>\n",
       "      <td>32</td>\n",
       "      <td>160.000000</td>\n",
       "      <td>2018-05-05</td>\n",
       "      <td>Saturday</td>\n",
       "    </tr>\n",
       "    <tr>\n",
       "      <th>3</th>\n",
       "      <td>1492</td>\n",
       "      <td>429</td>\n",
       "      <td>1200000</td>\n",
       "      <td>12</td>\n",
       "      <td>1</td>\n",
       "      <td>11.01</td>\n",
       "      <td>100000.0</td>\n",
       "      <td>12</td>\n",
       "      <td>108.991826</td>\n",
       "      <td>2018-05-05</td>\n",
       "      <td>Saturday</td>\n",
       "    </tr>\n",
       "    <tr>\n",
       "      <th>4</th>\n",
       "      <td>1492</td>\n",
       "      <td>524</td>\n",
       "      <td>1200000</td>\n",
       "      <td>15</td>\n",
       "      <td>3</td>\n",
       "      <td>16.67</td>\n",
       "      <td>80000.0</td>\n",
       "      <td>15</td>\n",
       "      <td>89.982004</td>\n",
       "      <td>2018-05-05</td>\n",
       "      <td>Saturday</td>\n",
       "    </tr>\n",
       "  </tbody>\n",
       "</table>\n",
       "</div>"
      ],
      "text/plain": [
       "   film_code  cinema_code  total_sales  tickets_sold  show_time  occupation  \\\n",
       "0       1492          304      3900000            26          4        4.26   \n",
       "1       1492          352      3360000            42          5        8.08   \n",
       "2       1492          489      2560000            32          4       20.00   \n",
       "3       1492          429      1200000            12          1       11.01   \n",
       "4       1492          524      1200000            15          3       16.67   \n",
       "\n",
       "   ticket_price  ticket_use    capacity       date  day_name  \n",
       "0      150000.0          26  610.328638 2018-05-05  Saturday  \n",
       "1       80000.0          42  519.801980 2018-05-05  Saturday  \n",
       "2       80000.0          32  160.000000 2018-05-05  Saturday  \n",
       "3      100000.0          12  108.991826 2018-05-05  Saturday  \n",
       "4       80000.0          15   89.982004 2018-05-05  Saturday  "
      ]
     },
     "execution_count": 31,
     "metadata": {},
     "output_type": "execute_result"
    }
   ],
   "source": [
    "df.head()"
   ]
  },
  {
   "cell_type": "markdown",
   "id": "d0e38da7",
   "metadata": {},
   "source": [
    "### How many `ticket_use` based on `occupation`?"
   ]
  },
  {
   "cell_type": "code",
   "execution_count": 32,
   "id": "7f820570",
   "metadata": {},
   "outputs": [
    {
     "data": {
      "text/html": [
       "<div>\n",
       "<style scoped>\n",
       "    .dataframe tbody tr th:only-of-type {\n",
       "        vertical-align: middle;\n",
       "    }\n",
       "\n",
       "    .dataframe tbody tr th {\n",
       "        vertical-align: top;\n",
       "    }\n",
       "\n",
       "    .dataframe thead tr th {\n",
       "        text-align: left;\n",
       "    }\n",
       "\n",
       "    .dataframe thead tr:last-of-type th {\n",
       "        text-align: right;\n",
       "    }\n",
       "</style>\n",
       "<table border=\"1\" class=\"dataframe\">\n",
       "  <thead>\n",
       "    <tr>\n",
       "      <th></th>\n",
       "      <th>ticket_use</th>\n",
       "    </tr>\n",
       "    <tr>\n",
       "      <th></th>\n",
       "      <th>sum</th>\n",
       "    </tr>\n",
       "    <tr>\n",
       "      <th>occupation</th>\n",
       "      <th></th>\n",
       "    </tr>\n",
       "  </thead>\n",
       "  <tbody>\n",
       "    <tr>\n",
       "      <th>0.03</th>\n",
       "      <td>5</td>\n",
       "    </tr>\n",
       "    <tr>\n",
       "      <th>0.04</th>\n",
       "      <td>6</td>\n",
       "    </tr>\n",
       "    <tr>\n",
       "      <th>0.05</th>\n",
       "      <td>11</td>\n",
       "    </tr>\n",
       "    <tr>\n",
       "      <th>0.07</th>\n",
       "      <td>15</td>\n",
       "    </tr>\n",
       "    <tr>\n",
       "      <th>0.09</th>\n",
       "      <td>20</td>\n",
       "    </tr>\n",
       "    <tr>\n",
       "      <th>...</th>\n",
       "      <td>...</td>\n",
       "    </tr>\n",
       "    <tr>\n",
       "      <th>66.67</th>\n",
       "      <td>13888</td>\n",
       "    </tr>\n",
       "    <tr>\n",
       "      <th>16.67</th>\n",
       "      <td>15527</td>\n",
       "    </tr>\n",
       "    <tr>\n",
       "      <th>25.00</th>\n",
       "      <td>15791</td>\n",
       "    </tr>\n",
       "    <tr>\n",
       "      <th>50.00</th>\n",
       "      <td>27129</td>\n",
       "    </tr>\n",
       "    <tr>\n",
       "      <th>100.00</th>\n",
       "      <td>63276</td>\n",
       "    </tr>\n",
       "  </tbody>\n",
       "</table>\n",
       "<p>9231 rows × 1 columns</p>\n",
       "</div>"
      ],
      "text/plain": [
       "           ticket_use\n",
       "                  sum\n",
       "occupation           \n",
       "0.03                5\n",
       "0.04                6\n",
       "0.05               11\n",
       "0.07               15\n",
       "0.09               20\n",
       "...               ...\n",
       "66.67           13888\n",
       "16.67           15527\n",
       "25.00           15791\n",
       "50.00           27129\n",
       "100.00          63276\n",
       "\n",
       "[9231 rows x 1 columns]"
      ]
     },
     "execution_count": 32,
     "metadata": {},
     "output_type": "execute_result"
    }
   ],
   "source": [
    "df.groupby('occupation')[['ticket_use']].agg([sum]).sort_values(by=('ticket_use','sum'))"
   ]
  },
  {
   "cell_type": "markdown",
   "id": "dc729558",
   "metadata": {},
   "source": [
    "### What is the most `tickets_sold`?"
   ]
  },
  {
   "cell_type": "code",
   "execution_count": 33,
   "id": "297cd032",
   "metadata": {},
   "outputs": [
    {
     "data": {
      "text/html": [
       "<div>\n",
       "<style scoped>\n",
       "    .dataframe tbody tr th:only-of-type {\n",
       "        vertical-align: middle;\n",
       "    }\n",
       "\n",
       "    .dataframe tbody tr th {\n",
       "        vertical-align: top;\n",
       "    }\n",
       "\n",
       "    .dataframe thead th {\n",
       "        text-align: right;\n",
       "    }\n",
       "</style>\n",
       "<table border=\"1\" class=\"dataframe\">\n",
       "  <thead>\n",
       "    <tr style=\"text-align: right;\">\n",
       "      <th></th>\n",
       "      <th>film_code</th>\n",
       "      <th>cinema_code</th>\n",
       "      <th>total_sales</th>\n",
       "      <th>show_time</th>\n",
       "      <th>occupation</th>\n",
       "      <th>ticket_price</th>\n",
       "      <th>ticket_use</th>\n",
       "      <th>capacity</th>\n",
       "    </tr>\n",
       "    <tr>\n",
       "      <th>tickets_sold</th>\n",
       "      <th></th>\n",
       "      <th></th>\n",
       "      <th></th>\n",
       "      <th></th>\n",
       "      <th></th>\n",
       "      <th></th>\n",
       "      <th></th>\n",
       "      <th></th>\n",
       "    </tr>\n",
       "  </thead>\n",
       "  <tbody>\n",
       "    <tr>\n",
       "      <th>1</th>\n",
       "      <td>623465</td>\n",
       "      <td>143000</td>\n",
       "      <td>33225000</td>\n",
       "      <td>1021</td>\n",
       "      <td>242.61</td>\n",
       "      <td>3.322500e+07</td>\n",
       "      <td>406</td>\n",
       "      <td>1.806804e+05</td>\n",
       "    </tr>\n",
       "    <tr>\n",
       "      <th>2</th>\n",
       "      <td>3296778</td>\n",
       "      <td>781441</td>\n",
       "      <td>361050000</td>\n",
       "      <td>5181</td>\n",
       "      <td>2518.62</td>\n",
       "      <td>1.805250e+08</td>\n",
       "      <td>4298</td>\n",
       "      <td>8.940411e+05</td>\n",
       "    </tr>\n",
       "    <tr>\n",
       "      <th>3</th>\n",
       "      <td>2473993</td>\n",
       "      <td>580244</td>\n",
       "      <td>380990000</td>\n",
       "      <td>3832</td>\n",
       "      <td>2719.16</td>\n",
       "      <td>1.269967e+08</td>\n",
       "      <td>4831</td>\n",
       "      <td>7.092403e+05</td>\n",
       "    </tr>\n",
       "    <tr>\n",
       "      <th>4</th>\n",
       "      <td>3816933</td>\n",
       "      <td>886623</td>\n",
       "      <td>796902000</td>\n",
       "      <td>6168</td>\n",
       "      <td>5178.16</td>\n",
       "      <td>1.992255e+08</td>\n",
       "      <td>9950</td>\n",
       "      <td>1.097458e+06</td>\n",
       "    </tr>\n",
       "    <tr>\n",
       "      <th>5</th>\n",
       "      <td>3359522</td>\n",
       "      <td>775926</td>\n",
       "      <td>838625000</td>\n",
       "      <td>5240</td>\n",
       "      <td>5669.17</td>\n",
       "      <td>1.677250e+08</td>\n",
       "      <td>10961</td>\n",
       "      <td>9.802533e+05</td>\n",
       "    </tr>\n",
       "    <tr>\n",
       "      <th>...</th>\n",
       "      <td>...</td>\n",
       "      <td>...</td>\n",
       "      <td>...</td>\n",
       "      <td>...</td>\n",
       "      <td>...</td>\n",
       "      <td>...</td>\n",
       "      <td>...</td>\n",
       "      <td>...</td>\n",
       "    </tr>\n",
       "    <tr>\n",
       "      <th>7050</th>\n",
       "      <td>1554</td>\n",
       "      <td>448</td>\n",
       "      <td>563170000</td>\n",
       "      <td>38</td>\n",
       "      <td>91.19</td>\n",
       "      <td>7.988227e+04</td>\n",
       "      <td>7050</td>\n",
       "      <td>7.731111e+03</td>\n",
       "    </tr>\n",
       "    <tr>\n",
       "      <th>7121</th>\n",
       "      <td>1554</td>\n",
       "      <td>448</td>\n",
       "      <td>1058979995</td>\n",
       "      <td>38</td>\n",
       "      <td>85.80</td>\n",
       "      <td>1.487123e+05</td>\n",
       "      <td>7121</td>\n",
       "      <td>8.299534e+03</td>\n",
       "    </tr>\n",
       "    <tr>\n",
       "      <th>7229</th>\n",
       "      <td>1554</td>\n",
       "      <td>448</td>\n",
       "      <td>932559980</td>\n",
       "      <td>44</td>\n",
       "      <td>77.26</td>\n",
       "      <td>1.290026e+05</td>\n",
       "      <td>7229</td>\n",
       "      <td>9.356718e+03</td>\n",
       "    </tr>\n",
       "    <tr>\n",
       "      <th>7889</th>\n",
       "      <td>1554</td>\n",
       "      <td>448</td>\n",
       "      <td>1166354984</td>\n",
       "      <td>43</td>\n",
       "      <td>88.19</td>\n",
       "      <td>1.478457e+05</td>\n",
       "      <td>7889</td>\n",
       "      <td>8.945459e+03</td>\n",
       "    </tr>\n",
       "    <tr>\n",
       "      <th>8499</th>\n",
       "      <td>1554</td>\n",
       "      <td>448</td>\n",
       "      <td>1262819994</td>\n",
       "      <td>47</td>\n",
       "      <td>87.69</td>\n",
       "      <td>1.485845e+05</td>\n",
       "      <td>8499</td>\n",
       "      <td>9.692097e+03</td>\n",
       "    </tr>\n",
       "  </tbody>\n",
       "</table>\n",
       "<p>2231 rows × 8 columns</p>\n",
       "</div>"
      ],
      "text/plain": [
       "              film_code  cinema_code  total_sales  show_time  occupation  \\\n",
       "tickets_sold                                                               \n",
       "1                623465       143000     33225000       1021      242.61   \n",
       "2               3296778       781441    361050000       5181     2518.62   \n",
       "3               2473993       580244    380990000       3832     2719.16   \n",
       "4               3816933       886623    796902000       6168     5178.16   \n",
       "5               3359522       775926    838625000       5240     5669.17   \n",
       "...                 ...          ...          ...        ...         ...   \n",
       "7050               1554          448    563170000         38       91.19   \n",
       "7121               1554          448   1058979995         38       85.80   \n",
       "7229               1554          448    932559980         44       77.26   \n",
       "7889               1554          448   1166354984         43       88.19   \n",
       "8499               1554          448   1262819994         47       87.69   \n",
       "\n",
       "              ticket_price  ticket_use      capacity  \n",
       "tickets_sold                                          \n",
       "1             3.322500e+07         406  1.806804e+05  \n",
       "2             1.805250e+08        4298  8.940411e+05  \n",
       "3             1.269967e+08        4831  7.092403e+05  \n",
       "4             1.992255e+08        9950  1.097458e+06  \n",
       "5             1.677250e+08       10961  9.802533e+05  \n",
       "...                    ...         ...           ...  \n",
       "7050          7.988227e+04        7050  7.731111e+03  \n",
       "7121          1.487123e+05        7121  8.299534e+03  \n",
       "7229          1.290026e+05        7229  9.356718e+03  \n",
       "7889          1.478457e+05        7889  8.945459e+03  \n",
       "8499          1.485845e+05        8499  9.692097e+03  \n",
       "\n",
       "[2231 rows x 8 columns]"
      ]
     },
     "execution_count": 33,
     "metadata": {},
     "output_type": "execute_result"
    }
   ],
   "source": [
    "df.groupby(['tickets_sold'], sort = True).sum()"
   ]
  },
  {
   "cell_type": "markdown",
   "id": "e8b123d2",
   "metadata": {},
   "source": [
    "### Is the `total_sales` affects the `day_name`?"
   ]
  },
  {
   "cell_type": "code",
   "execution_count": 34,
   "id": "c519cd0f",
   "metadata": {},
   "outputs": [
    {
     "data": {
      "text/html": [
       "<div>\n",
       "<style scoped>\n",
       "    .dataframe tbody tr th:only-of-type {\n",
       "        vertical-align: middle;\n",
       "    }\n",
       "\n",
       "    .dataframe tbody tr th {\n",
       "        vertical-align: top;\n",
       "    }\n",
       "\n",
       "    .dataframe thead th {\n",
       "        text-align: right;\n",
       "    }\n",
       "</style>\n",
       "<table border=\"1\" class=\"dataframe\">\n",
       "  <thead>\n",
       "    <tr style=\"text-align: right;\">\n",
       "      <th></th>\n",
       "      <th>ticket_use</th>\n",
       "    </tr>\n",
       "    <tr>\n",
       "      <th>day_name</th>\n",
       "      <th></th>\n",
       "    </tr>\n",
       "  </thead>\n",
       "  <tbody>\n",
       "    <tr>\n",
       "      <th>Friday</th>\n",
       "      <td>3693174</td>\n",
       "    </tr>\n",
       "    <tr>\n",
       "      <th>Monday</th>\n",
       "      <td>1402937</td>\n",
       "    </tr>\n",
       "    <tr>\n",
       "      <th>Saturday</th>\n",
       "      <td>2149174</td>\n",
       "    </tr>\n",
       "    <tr>\n",
       "      <th>Sunday</th>\n",
       "      <td>1624324</td>\n",
       "    </tr>\n",
       "    <tr>\n",
       "      <th>Thursday</th>\n",
       "      <td>3161169</td>\n",
       "    </tr>\n",
       "    <tr>\n",
       "      <th>Tuesday</th>\n",
       "      <td>5557986</td>\n",
       "    </tr>\n",
       "    <tr>\n",
       "      <th>Wednesday</th>\n",
       "      <td>2282992</td>\n",
       "    </tr>\n",
       "  </tbody>\n",
       "</table>\n",
       "</div>"
      ],
      "text/plain": [
       "           ticket_use\n",
       "day_name             \n",
       "Friday        3693174\n",
       "Monday        1402937\n",
       "Saturday      2149174\n",
       "Sunday        1624324\n",
       "Thursday      3161169\n",
       "Tuesday       5557986\n",
       "Wednesday     2282992"
      ]
     },
     "execution_count": 34,
     "metadata": {},
     "output_type": "execute_result"
    }
   ],
   "source": [
    "df[['ticket_use', 'day_name']].groupby(['day_name'], sort = True).sum()"
   ]
  },
  {
   "cell_type": "markdown",
   "id": "530435b6",
   "metadata": {},
   "source": [
    "### Which `day_name` has the most number of sales?"
   ]
  },
  {
   "cell_type": "code",
   "execution_count": 35,
   "id": "41d48e49",
   "metadata": {},
   "outputs": [
    {
     "name": "stderr",
     "output_type": "stream",
     "text": [
      "C:\\Users\\surface laptop\\anaconda3\\lib\\site-packages\\seaborn\\_decorators.py:36: FutureWarning: Pass the following variable as a keyword arg: x. From version 0.12, the only valid positional argument will be `data`, and passing other arguments without an explicit keyword will result in an error or misinterpretation.\n",
      "  warnings.warn(\n"
     ]
    },
    {
     "data": {
      "image/png": "[encoded data removed]",
      "text/plain": [
       "<Figure size 720x432 with 1 Axes>"
      ]
     },
     "metadata": {
      "needs_background": "light"
     },
     "output_type": "display_data"
    }
   ],
   "source": [
    "plt.figure(figsize=(10, 6))\n",
    "plt.title('Number of sales per day_name')\n",
    "sns.countplot(df['day_name']);"
   ]
  },
  {
   "cell_type": "markdown",
   "id": "00b39cfa",
   "metadata": {},
   "source": [
    "### How many `ticket_use` based on `day_name`?"
   ]
  },
  {
   "cell_type": "code",
   "execution_count": 36,
   "id": "06ac1d6b",
   "metadata": {},
   "outputs": [
    {
     "data": {
      "image/png": "[encoded data removed]",
      "text/plain": [
       "<Figure size 432x288 with 1 Axes>"
      ]
     },
     "metadata": {
      "needs_background": "light"
     },
     "output_type": "display_data"
    }
   ],
   "source": [
    "df[['ticket_use', 'day_name']].groupby(['day_name'], sort = True).sum().plot()\n",
    "plt.title('Number of ticket_use per day');"
   ]
  },
  {
   "cell_type": "markdown",
   "id": "5a3d29b1",
   "metadata": {},
   "source": [
    "### Which `film_code` has the most `tickets_sold`?\n"
   ]
  },
  {
   "cell_type": "code",
   "execution_count": 37,
   "id": "c79a09aa",
   "metadata": {
    "scrolled": true
   },
   "outputs": [
    {
     "data": {
      "text/html": [
       "<div>\n",
       "<style scoped>\n",
       "    .dataframe tbody tr th:only-of-type {\n",
       "        vertical-align: middle;\n",
       "    }\n",
       "\n",
       "    .dataframe tbody tr th {\n",
       "        vertical-align: top;\n",
       "    }\n",
       "\n",
       "    .dataframe thead th {\n",
       "        text-align: right;\n",
       "    }\n",
       "</style>\n",
       "<table border=\"1\" class=\"dataframe\">\n",
       "  <thead>\n",
       "    <tr style=\"text-align: right;\">\n",
       "      <th></th>\n",
       "      <th>film_code</th>\n",
       "    </tr>\n",
       "    <tr>\n",
       "      <th>tickets_sold</th>\n",
       "      <th></th>\n",
       "    </tr>\n",
       "  </thead>\n",
       "  <tbody>\n",
       "    <tr>\n",
       "      <th>1</th>\n",
       "      <td>623465</td>\n",
       "    </tr>\n",
       "    <tr>\n",
       "      <th>2</th>\n",
       "      <td>3296778</td>\n",
       "    </tr>\n",
       "    <tr>\n",
       "      <th>3</th>\n",
       "      <td>2473993</td>\n",
       "    </tr>\n",
       "    <tr>\n",
       "      <th>4</th>\n",
       "      <td>3816933</td>\n",
       "    </tr>\n",
       "    <tr>\n",
       "      <th>5</th>\n",
       "      <td>3359522</td>\n",
       "    </tr>\n",
       "    <tr>\n",
       "      <th>...</th>\n",
       "      <td>...</td>\n",
       "    </tr>\n",
       "    <tr>\n",
       "      <th>7050</th>\n",
       "      <td>1554</td>\n",
       "    </tr>\n",
       "    <tr>\n",
       "      <th>7121</th>\n",
       "      <td>1554</td>\n",
       "    </tr>\n",
       "    <tr>\n",
       "      <th>7229</th>\n",
       "      <td>1554</td>\n",
       "    </tr>\n",
       "    <tr>\n",
       "      <th>7889</th>\n",
       "      <td>1554</td>\n",
       "    </tr>\n",
       "    <tr>\n",
       "      <th>8499</th>\n",
       "      <td>1554</td>\n",
       "    </tr>\n",
       "  </tbody>\n",
       "</table>\n",
       "<p>2231 rows × 1 columns</p>\n",
       "</div>"
      ],
      "text/plain": [
       "              film_code\n",
       "tickets_sold           \n",
       "1                623465\n",
       "2               3296778\n",
       "3               2473993\n",
       "4               3816933\n",
       "5               3359522\n",
       "...                 ...\n",
       "7050               1554\n",
       "7121               1554\n",
       "7229               1554\n",
       "7889               1554\n",
       "8499               1554\n",
       "\n",
       "[2231 rows x 1 columns]"
      ]
     },
     "execution_count": 37,
     "metadata": {},
     "output_type": "execute_result"
    }
   ],
   "source": [
    "df[['film_code', 'tickets_sold']].groupby(['tickets_sold'], sort = True).sum()"
   ]
  },
  {
   "cell_type": "code",
   "execution_count": 38,
   "id": "b53403a0",
   "metadata": {},
   "outputs": [
    {
     "data": {
      "image/png": "[encoded data removed]",
      "text/plain": [
       "<Figure size 432x288 with 1 Axes>"
      ]
     },
     "metadata": {
      "needs_background": "light"
     },
     "output_type": "display_data"
    }
   ],
   "source": [
    "df[['film_code', 'tickets_sold']].groupby('film_code').count().plot()\n",
    "plt.title('Number of tickets_sold per film_code');"
   ]
  },
  {
   "cell_type": "markdown",
   "id": "43a0a157",
   "metadata": {},
   "source": [
    "### What is the correlation between the features?\n"
   ]
  },
  {
   "cell_type": "code",
   "execution_count": 39,
   "id": "335bd602",
   "metadata": {
    "scrolled": true
   },
   "outputs": [
    {
     "data": {
      "image/png": "[encoded data removed]",
      "text/plain": [
       "<Figure size 720x720 with 2 Axes>"
      ]
     },
     "metadata": {
      "needs_background": "light"
     },
     "output_type": "display_data"
    }
   ],
   "source": [
    "plt.figure(figsize=(10,10))\n",
    "sns.heatmap(df.corr(), vmax = 1, vmin = -1, cmap = 'YlGnBu', cbar=True, annot=True, square=True, fmt='.2f', annot_kws = {'size': 10});"
   ]
  },
  {
   "cell_type": "markdown",
   "id": "c63b59a4",
   "metadata": {},
   "source": [
    "###  Does `show_time` affect the `tickets_sold`?"
   ]
  },
  {
   "cell_type": "code",
   "execution_count": 40,
   "id": "6ed1efbd",
   "metadata": {},
   "outputs": [
    {
     "name": "stderr",
     "output_type": "stream",
     "text": [
      "C:\\Users\\surface laptop\\anaconda3\\lib\\site-packages\\seaborn\\_decorators.py:36: FutureWarning: Pass the following variables as keyword args: x, y. From version 0.12, the only valid positional argument will be `data`, and passing other arguments without an explicit keyword will result in an error or misinterpretation.\n",
      "  warnings.warn(\n"
     ]
    },
    {
     "data": {
      "image/png": "[encoded data removed]",
      "text/plain": [
       "<Figure size 432x288 with 1 Axes>"
      ]
     },
     "metadata": {
      "needs_background": "light"
     },
     "output_type": "display_data"
    }
   ],
   "source": [
    "show = sns.scatterplot(df['tickets_sold'], df['show_time'])\n",
    "show.set_title(\"Number of tickets_sold per nember of show_time\");"
   ]
  },
  {
   "cell_type": "markdown",
   "id": "86d5698b",
   "metadata": {},
   "source": [
    "###  Which `film_code` is the most popular film?"
   ]
  },
  {
   "cell_type": "code",
   "execution_count": 41,
   "id": "51ee961b",
   "metadata": {},
   "outputs": [
    {
     "name": "stderr",
     "output_type": "stream",
     "text": [
      "C:\\Users\\surface laptop\\anaconda3\\lib\\site-packages\\seaborn\\_decorators.py:36: FutureWarning: Pass the following variable as a keyword arg: x. From version 0.12, the only valid positional argument will be `data`, and passing other arguments without an explicit keyword will result in an error or misinterpretation.\n",
      "  warnings.warn(\n"
     ]
    },
    {
     "data": {
      "image/png": "[encoded data removed]",
      "text/plain": [
       "<Figure size 2160x720 with 1 Axes>"
      ]
     },
     "metadata": {
      "needs_background": "light"
     },
     "output_type": "display_data"
    }
   ],
   "source": [
    "plt.figure(figsize=(30,10))\n",
    "film = sns.countplot(df['film_code']);\n",
    "film.set_title(\"Number of times film_code has been shown\");"
   ]
  },
  {
   "cell_type": "markdown",
   "id": "2d070224",
   "metadata": {},
   "source": [
    "###  Which is the most popular Film show?"
   ]
  },
  {
   "cell_type": "code",
   "execution_count": 42,
   "id": "526c420a",
   "metadata": {},
   "outputs": [
    {
     "data": {
      "text/plain": [
       "Index(['film_code', 'cinema_code', 'total_sales', 'tickets_sold', 'show_time',\n",
       "       'occupation', 'ticket_price', 'ticket_use', 'capacity', 'date',\n",
       "       'day_name'],\n",
       "      dtype='object')"
      ]
     },
     "execution_count": 42,
     "metadata": {},
     "output_type": "execute_result"
    }
   ],
   "source": [
    "df.columns"
   ]
  },
  {
   "cell_type": "markdown",
   "id": "6c83d7ed",
   "metadata": {},
   "source": [
    "# **Part 1: Machine Learning Model**"
   ]
  },
  {
   "cell_type": "markdown",
   "id": "41173a9a",
   "metadata": {},
   "source": [
    "###  Define input and output columns"
   ]
  },
  {
   "cell_type": "code",
   "execution_count": 43,
   "id": "2d7fb5ff",
   "metadata": {},
   "outputs": [],
   "source": [
    "X = df.loc[:,['film_code', 'cinema_code', 'tickets_sold', 'show_time', 'occupation', 'ticket_price', 'ticket_use', 'capacity']]\n",
    "y = df['total_sales']"
   ]
  },
  {
   "cell_type": "code",
   "execution_count": 44,
   "id": "a3a9bf8b",
   "metadata": {},
   "outputs": [
    {
     "data": {
      "text/html": [
       "<div>\n",
       "<style scoped>\n",
       "    .dataframe tbody tr th:only-of-type {\n",
       "        vertical-align: middle;\n",
       "    }\n",
       "\n",
       "    .dataframe tbody tr th {\n",
       "        vertical-align: top;\n",
       "    }\n",
       "\n",
       "    .dataframe thead th {\n",
       "        text-align: right;\n",
       "    }\n",
       "</style>\n",
       "<table border=\"1\" class=\"dataframe\">\n",
       "  <thead>\n",
       "    <tr style=\"text-align: right;\">\n",
       "      <th></th>\n",
       "      <th>film_code</th>\n",
       "      <th>cinema_code</th>\n",
       "      <th>tickets_sold</th>\n",
       "      <th>show_time</th>\n",
       "      <th>occupation</th>\n",
       "      <th>ticket_price</th>\n",
       "      <th>ticket_use</th>\n",
       "      <th>capacity</th>\n",
       "    </tr>\n",
       "  </thead>\n",
       "  <tbody>\n",
       "    <tr>\n",
       "      <th>0</th>\n",
       "      <td>1492</td>\n",
       "      <td>304</td>\n",
       "      <td>26</td>\n",
       "      <td>4</td>\n",
       "      <td>4.26</td>\n",
       "      <td>150000.0</td>\n",
       "      <td>26</td>\n",
       "      <td>610.328638</td>\n",
       "    </tr>\n",
       "    <tr>\n",
       "      <th>1</th>\n",
       "      <td>1492</td>\n",
       "      <td>352</td>\n",
       "      <td>42</td>\n",
       "      <td>5</td>\n",
       "      <td>8.08</td>\n",
       "      <td>80000.0</td>\n",
       "      <td>42</td>\n",
       "      <td>519.801980</td>\n",
       "    </tr>\n",
       "    <tr>\n",
       "      <th>2</th>\n",
       "      <td>1492</td>\n",
       "      <td>489</td>\n",
       "      <td>32</td>\n",
       "      <td>4</td>\n",
       "      <td>20.00</td>\n",
       "      <td>80000.0</td>\n",
       "      <td>32</td>\n",
       "      <td>160.000000</td>\n",
       "    </tr>\n",
       "    <tr>\n",
       "      <th>3</th>\n",
       "      <td>1492</td>\n",
       "      <td>429</td>\n",
       "      <td>12</td>\n",
       "      <td>1</td>\n",
       "      <td>11.01</td>\n",
       "      <td>100000.0</td>\n",
       "      <td>12</td>\n",
       "      <td>108.991826</td>\n",
       "    </tr>\n",
       "    <tr>\n",
       "      <th>4</th>\n",
       "      <td>1492</td>\n",
       "      <td>524</td>\n",
       "      <td>15</td>\n",
       "      <td>3</td>\n",
       "      <td>16.67</td>\n",
       "      <td>80000.0</td>\n",
       "      <td>15</td>\n",
       "      <td>89.982004</td>\n",
       "    </tr>\n",
       "  </tbody>\n",
       "</table>\n",
       "</div>"
      ],
      "text/plain": [
       "   film_code  cinema_code  tickets_sold  show_time  occupation  ticket_price  \\\n",
       "0       1492          304            26          4        4.26      150000.0   \n",
       "1       1492          352            42          5        8.08       80000.0   \n",
       "2       1492          489            32          4       20.00       80000.0   \n",
       "3       1492          429            12          1       11.01      100000.0   \n",
       "4       1492          524            15          3       16.67       80000.0   \n",
       "\n",
       "   ticket_use    capacity  \n",
       "0          26  610.328638  \n",
       "1          42  519.801980  \n",
       "2          32  160.000000  \n",
       "3          12  108.991826  \n",
       "4          15   89.982004  "
      ]
     },
     "execution_count": 44,
     "metadata": {},
     "output_type": "execute_result"
    }
   ],
   "source": [
    "X.head()"
   ]
  },
  {
   "cell_type": "code",
   "execution_count": 45,
   "id": "acfe02ba",
   "metadata": {},
   "outputs": [
    {
     "data": {
      "text/plain": [
       "0    3900000\n",
       "1    3360000\n",
       "2    2560000\n",
       "3    1200000\n",
       "4    1200000\n",
       "Name: total_sales, dtype: int64"
      ]
     },
     "execution_count": 45,
     "metadata": {},
     "output_type": "execute_result"
    }
   ],
   "source": [
    "y.head()"
   ]
  },
  {
   "cell_type": "markdown",
   "id": "ea9c1b10",
   "metadata": {},
   "source": [
    "###  Split dataset into train and test datasets"
   ]
  },
  {
   "cell_type": "code",
   "execution_count": 46,
   "id": "359a1e26",
   "metadata": {},
   "outputs": [],
   "source": [
    "X, X_test, y, y_test = train_test_split(X, y, test_size=.2, random_state=10)"
   ]
  },
  {
   "cell_type": "code",
   "execution_count": 47,
   "id": "6bd52de6",
   "metadata": {},
   "outputs": [
    {
     "data": {
      "text/html": [
       "<div>\n",
       "<style scoped>\n",
       "    .dataframe tbody tr th:only-of-type {\n",
       "        vertical-align: middle;\n",
       "    }\n",
       "\n",
       "    .dataframe tbody tr th {\n",
       "        vertical-align: top;\n",
       "    }\n",
       "\n",
       "    .dataframe thead th {\n",
       "        text-align: right;\n",
       "    }\n",
       "</style>\n",
       "<table border=\"1\" class=\"dataframe\">\n",
       "  <thead>\n",
       "    <tr style=\"text-align: right;\">\n",
       "      <th></th>\n",
       "      <th>film_code</th>\n",
       "      <th>cinema_code</th>\n",
       "      <th>tickets_sold</th>\n",
       "      <th>show_time</th>\n",
       "      <th>occupation</th>\n",
       "      <th>ticket_price</th>\n",
       "      <th>ticket_use</th>\n",
       "      <th>capacity</th>\n",
       "    </tr>\n",
       "  </thead>\n",
       "  <tbody>\n",
       "    <tr>\n",
       "      <th>128213</th>\n",
       "      <td>1493</td>\n",
       "      <td>524</td>\n",
       "      <td>168</td>\n",
       "      <td>9</td>\n",
       "      <td>8.92</td>\n",
       "      <td>80000.000000</td>\n",
       "      <td>168</td>\n",
       "      <td>1883.408072</td>\n",
       "    </tr>\n",
       "    <tr>\n",
       "      <th>40000</th>\n",
       "      <td>1562</td>\n",
       "      <td>50</td>\n",
       "      <td>17</td>\n",
       "      <td>3</td>\n",
       "      <td>3.18</td>\n",
       "      <td>120000.000000</td>\n",
       "      <td>17</td>\n",
       "      <td>534.591195</td>\n",
       "    </tr>\n",
       "    <tr>\n",
       "      <th>58255</th>\n",
       "      <td>1484</td>\n",
       "      <td>248</td>\n",
       "      <td>54</td>\n",
       "      <td>2</td>\n",
       "      <td>3.91</td>\n",
       "      <td>70000.000000</td>\n",
       "      <td>54</td>\n",
       "      <td>1381.074169</td>\n",
       "    </tr>\n",
       "    <tr>\n",
       "      <th>89219</th>\n",
       "      <td>1554</td>\n",
       "      <td>529</td>\n",
       "      <td>246</td>\n",
       "      <td>7</td>\n",
       "      <td>18.30</td>\n",
       "      <td>100731.707317</td>\n",
       "      <td>246</td>\n",
       "      <td>1344.262295</td>\n",
       "    </tr>\n",
       "    <tr>\n",
       "      <th>94381</th>\n",
       "      <td>1572</td>\n",
       "      <td>238</td>\n",
       "      <td>112</td>\n",
       "      <td>4</td>\n",
       "      <td>13.59</td>\n",
       "      <td>60000.000000</td>\n",
       "      <td>112</td>\n",
       "      <td>824.135394</td>\n",
       "    </tr>\n",
       "  </tbody>\n",
       "</table>\n",
       "</div>"
      ],
      "text/plain": [
       "        film_code  cinema_code  tickets_sold  show_time  occupation  \\\n",
       "128213       1493          524           168          9        8.92   \n",
       "40000        1562           50            17          3        3.18   \n",
       "58255        1484          248            54          2        3.91   \n",
       "89219        1554          529           246          7       18.30   \n",
       "94381        1572          238           112          4       13.59   \n",
       "\n",
       "         ticket_price  ticket_use     capacity  \n",
       "128213   80000.000000         168  1883.408072  \n",
       "40000   120000.000000          17   534.591195  \n",
       "58255    70000.000000          54  1381.074169  \n",
       "89219   100731.707317         246  1344.262295  \n",
       "94381    60000.000000         112   824.135394  "
      ]
     },
     "execution_count": 47,
     "metadata": {},
     "output_type": "execute_result"
    }
   ],
   "source": [
    "X_test.head()"
   ]
  },
  {
   "cell_type": "code",
   "execution_count": 48,
   "id": "35e099ee",
   "metadata": {
    "scrolled": true
   },
   "outputs": [
    {
     "data": {
      "text/plain": [
       "128213    13440000\n",
       "40000      2040000\n",
       "58255      3780000\n",
       "89219     24780000\n",
       "94381      6720000\n",
       "Name: total_sales, dtype: int64"
      ]
     },
     "execution_count": 48,
     "metadata": {},
     "output_type": "execute_result"
    }
   ],
   "source": [
    "y_test.head()"
   ]
  },
  {
   "cell_type": "markdown",
   "id": "c6a4634a",
   "metadata": {},
   "source": [
    "###  Split train dataset into train and vaidation datasets"
   ]
  },
  {
   "cell_type": "code",
   "execution_count": 49,
   "id": "c18d4993",
   "metadata": {},
   "outputs": [],
   "source": [
    "X_train, X_val, y_train, y_val = train_test_split(X, y, test_size=.25, random_state=3)"
   ]
  },
  {
   "cell_type": "markdown",
   "id": "6aff5cb6",
   "metadata": {},
   "source": [
    "###  Scale the vaules"
   ]
  },
  {
   "cell_type": "code",
   "execution_count": 50,
   "id": "e2c8e599",
   "metadata": {},
   "outputs": [],
   "source": [
    "scaler = StandardScaler()\n",
    "\n",
    "X_train_scaled = scaler.fit_transform(X_train.values)\n",
    "X_val_scaled = scaler.transform(X_val.values)\n",
    "X_test_scaled = scaler.transform(X_test.values)"
   ]
  },
  {
   "cell_type": "markdown",
   "id": "3577da91",
   "metadata": {},
   "source": [
    "###  Define the model"
   ]
  },
  {
   "cell_type": "code",
   "execution_count": 51,
   "id": "dd0e60ad",
   "metadata": {},
   "outputs": [
    {
     "data": {
      "text/plain": [
       "LinearRegression()"
      ]
     },
     "execution_count": 51,
     "metadata": {},
     "output_type": "execute_result"
    }
   ],
   "source": [
    "lr = LinearRegression()\n",
    "lr.fit(X_train[['tickets_sold','show_time','ticket_use']], y_train)"
   ]
  },
  {
   "cell_type": "markdown",
   "id": "52cc748b",
   "metadata": {},
   "source": [
    "###  r^2 score values for train and test dataset"
   ]
  },
  {
   "cell_type": "code",
   "execution_count": 52,
   "id": "bcac2bbc",
   "metadata": {},
   "outputs": [
    {
     "name": "stdout",
     "output_type": "stream",
     "text": [
      "The r^2 score value for train is 0.8354608114139351\n",
      "The r^2 score value for test is 0.8450691174494454\n"
     ]
    }
   ],
   "source": [
    "print(f\"The r^2 score value for train is {lr.score(X_train[['tickets_sold','show_time','ticket_use']], y_train)}\")\n",
    "\n",
    "print(f\"The r^2 score value for test is {lr.score(X_test[['tickets_sold','show_time','ticket_use']], y_test)}\")"
   ]
  },
  {
   "cell_type": "markdown",
   "id": "40498162",
   "metadata": {},
   "source": [
    "###  Apply trained model to make predition on train dataset"
   ]
  },
  {
   "cell_type": "code",
   "execution_count": 53,
   "id": "ca09b022",
   "metadata": {},
   "outputs": [],
   "source": [
    "y_actual_train = y_train\n",
    "y_predicted_train = lr.predict(X_train[['tickets_sold','show_time','ticket_use']])"
   ]
  },
  {
   "cell_type": "code",
   "execution_count": 54,
   "id": "7a6c1041",
   "metadata": {},
   "outputs": [
    {
     "data": {
      "text/html": [
       "<div>\n",
       "<style scoped>\n",
       "    .dataframe tbody tr th:only-of-type {\n",
       "        vertical-align: middle;\n",
       "    }\n",
       "\n",
       "    .dataframe tbody tr th {\n",
       "        vertical-align: top;\n",
       "    }\n",
       "\n",
       "    .dataframe thead th {\n",
       "        text-align: right;\n",
       "    }\n",
       "</style>\n",
       "<table border=\"1\" class=\"dataframe\">\n",
       "  <thead>\n",
       "    <tr style=\"text-align: right;\">\n",
       "      <th></th>\n",
       "      <th>actual</th>\n",
       "      <th>predicted</th>\n",
       "    </tr>\n",
       "  </thead>\n",
       "  <tbody>\n",
       "    <tr>\n",
       "      <th>0</th>\n",
       "      <td>4470000</td>\n",
       "      <td>1.368462e+07</td>\n",
       "    </tr>\n",
       "    <tr>\n",
       "      <th>1</th>\n",
       "      <td>14760000</td>\n",
       "      <td>9.804644e+06</td>\n",
       "    </tr>\n",
       "    <tr>\n",
       "      <th>2</th>\n",
       "      <td>131580000</td>\n",
       "      <td>1.108973e+08</td>\n",
       "    </tr>\n",
       "    <tr>\n",
       "      <th>3</th>\n",
       "      <td>100000</td>\n",
       "      <td>-2.541664e+06</td>\n",
       "    </tr>\n",
       "    <tr>\n",
       "      <th>4</th>\n",
       "      <td>10050000</td>\n",
       "      <td>1.741170e+07</td>\n",
       "    </tr>\n",
       "  </tbody>\n",
       "</table>\n",
       "</div>"
      ],
      "text/plain": [
       "      actual     predicted\n",
       "0    4470000  1.368462e+07\n",
       "1   14760000  9.804644e+06\n",
       "2  131580000  1.108973e+08\n",
       "3     100000 -2.541664e+06\n",
       "4   10050000  1.741170e+07"
      ]
     },
     "execution_count": 54,
     "metadata": {},
     "output_type": "execute_result"
    }
   ],
   "source": [
    "train_columns = {'actual': list(y_actual_train), 'predicted': list(y_predicted_train)}\n",
    "train_table = pd.DataFrame(data = train_columns)\n",
    "train_table.head()"
   ]
  },
  {
   "cell_type": "markdown",
   "id": "eda54242",
   "metadata": {},
   "source": [
    "###  Apply trained model to make predition on test dataset"
   ]
  },
  {
   "cell_type": "code",
   "execution_count": 55,
   "id": "9b8f13ae",
   "metadata": {},
   "outputs": [],
   "source": [
    "y_actual_test = y_test\n",
    "y_predicted_test = lr.predict(X_test[['tickets_sold','show_time','ticket_use']])"
   ]
  },
  {
   "cell_type": "code",
   "execution_count": 56,
   "id": "ad797015",
   "metadata": {},
   "outputs": [
    {
     "data": {
      "text/html": [
       "<div>\n",
       "<style scoped>\n",
       "    .dataframe tbody tr th:only-of-type {\n",
       "        vertical-align: middle;\n",
       "    }\n",
       "\n",
       "    .dataframe tbody tr th {\n",
       "        vertical-align: top;\n",
       "    }\n",
       "\n",
       "    .dataframe thead th {\n",
       "        text-align: right;\n",
       "    }\n",
       "</style>\n",
       "<table border=\"1\" class=\"dataframe\">\n",
       "  <thead>\n",
       "    <tr style=\"text-align: right;\">\n",
       "      <th></th>\n",
       "      <th>actual</th>\n",
       "      <th>predicted</th>\n",
       "    </tr>\n",
       "  </thead>\n",
       "  <tbody>\n",
       "    <tr>\n",
       "      <th>0</th>\n",
       "      <td>13440000</td>\n",
       "      <td>1.733001e+07</td>\n",
       "    </tr>\n",
       "    <tr>\n",
       "      <th>1</th>\n",
       "      <td>2040000</td>\n",
       "      <td>-8.504756e+04</td>\n",
       "    </tr>\n",
       "    <tr>\n",
       "      <th>2</th>\n",
       "      <td>3780000</td>\n",
       "      <td>3.075328e+06</td>\n",
       "    </tr>\n",
       "    <tr>\n",
       "      <th>3</th>\n",
       "      <td>24780000</td>\n",
       "      <td>2.404087e+07</td>\n",
       "    </tr>\n",
       "    <tr>\n",
       "      <th>4</th>\n",
       "      <td>6720000</td>\n",
       "      <td>9.628050e+06</td>\n",
       "    </tr>\n",
       "  </tbody>\n",
       "</table>\n",
       "</div>"
      ],
      "text/plain": [
       "     actual     predicted\n",
       "0  13440000  1.733001e+07\n",
       "1   2040000 -8.504756e+04\n",
       "2   3780000  3.075328e+06\n",
       "3  24780000  2.404087e+07\n",
       "4   6720000  9.628050e+06"
      ]
     },
     "execution_count": 56,
     "metadata": {},
     "output_type": "execute_result"
    }
   ],
   "source": [
    "test_columns = {'actual': list(y_actual_test), 'predicted': list(y_predicted_test)}\n",
    "test_table = pd.DataFrame(data = test_columns)\n",
    "test_table.head()"
   ]
  },
  {
   "cell_type": "markdown",
   "id": "67937976",
   "metadata": {},
   "source": [
    "###  Calculating Mean Squared Error "
   ]
  },
  {
   "cell_type": "code",
   "execution_count": 57,
   "id": "cb2b6e4b",
   "metadata": {
    "scrolled": true
   },
   "outputs": [
    {
     "name": "stdout",
     "output_type": "stream",
     "text": [
      "The MSE value of train dataset is 12257295.399118606\n",
      "The MSE value of test dataset is 12294925.039599154\n"
     ]
    }
   ],
   "source": [
    "sqrt(mean_squared_error(y_actual_train, y_predicted_train))\n",
    "sqrt(mean_squared_error(y_actual_test, y_predicted_test))\n",
    "     \n",
    "print(f\"The MSE value of train dataset is {sqrt(mean_squared_error(y_actual_train, y_predicted_train))}\")\n",
    "\n",
    "print(f\"The MSE value of test dataset is {sqrt(mean_squared_error(y_actual_test, y_predicted_test))}\")"
   ]
  },
  {
   "cell_type": "markdown",
   "id": "ceefe443",
   "metadata": {},
   "source": [
    "###  Print model performance"
   ]
  },
  {
   "cell_type": "code",
   "execution_count": 58,
   "id": "1e344205",
   "metadata": {},
   "outputs": [
    {
     "name": "stdout",
     "output_type": "stream",
     "text": [
      "Coefficients: [101073.25961461 448097.81800642  -3546.94816218]\n",
      "Intercept: -3087288.3069720306\n",
      "Coefficient of determination (R^2): 0.85\n"
     ]
    }
   ],
   "source": [
    "print('Coefficients:', lr.coef_)\n",
    "print('Intercept:', lr.intercept_)\n",
    "print('Coefficient of determination (R^2): %.2f'\n",
    "      % r2_score(y_actual_test, y_predicted_test))"
   ]
  }
 ],
 "metadata": {
  "kernelspec": {
   "display_name": "Python 3",
   "language": "python",
   "name": "python3"
  },
  "language_info": {
   "codemirror_mode": {
    "name": "ipython",
    "version": 3
   },
   "file_extension": ".py",
   "mimetype": "text/x-python",
   "name": "python",
   "nbconvert_exporter": "python",
   "pygments_lexer": "ipython3",
   "version": "3.8.8"
  }
 },
 "nbformat": 4,
 "nbformat_minor": 5
}
